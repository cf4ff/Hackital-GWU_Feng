{
 "cells": [
  {
   "cell_type": "markdown",
   "metadata": {},
   "source": [
    "# Hackital 2019: Smart City Hackathon @GWU\n",
    "## Road Junction Traffic Prediction by Chang Feng"
   ]
  },
  {
   "cell_type": "markdown",
   "metadata": {},
   "source": [
    "## 1. Data Retrieval and understanding the data"
   ]
  },
  {
   "cell_type": "code",
   "execution_count": 1,
   "metadata": {},
   "outputs": [
    {
     "name": "stdout",
     "output_type": "stream",
     "text": [
      "<class 'pandas.core.frame.DataFrame'>\n",
      "RangeIndex: 48120 entries, 0 to 48119\n",
      "Data columns (total 4 columns):\n",
      "DateTime    48120 non-null object\n",
      "Junction    48120 non-null int64\n",
      "Vehicles    48120 non-null int64\n",
      "ID          48120 non-null int64\n",
      "dtypes: int64(3), object(1)\n",
      "memory usage: 1.5+ MB\n"
     ]
    }
   ],
   "source": [
    "import numpy as np\n",
    "import pandas as pd\n",
    "\n",
    "df_traf = pd.read_csv(\"data.csv\")\n",
    "df_traf.info()"
   ]
  },
  {
   "cell_type": "code",
   "execution_count": 2,
   "metadata": {},
   "outputs": [],
   "source": [
    "def extract_year(row):\n",
    "    ID = str(row[\"ID\"])\n",
    "    return ID[0:4]\n",
    "\n",
    "def extract_month(row):\n",
    "    ID = str(row[\"ID\"])\n",
    "    return ID[4:6]\n",
    "\n",
    "def extract_day(row):\n",
    "    ID = str(row[\"ID\"])\n",
    "    return ID[6:8]\n",
    "\n",
    "def extract_hour(row):\n",
    "    ID = str(row[\"ID\"])\n",
    "    return ID[8:10]\n",
    "\n",
    "df_traf['year'] = df_traf.apply(lambda row: extract_year(row), axis=1)\n",
    "df_traf['month'] = df_traf.apply(lambda row: extract_month(row), axis=1)\n",
    "df_traf['day'] = df_traf.apply(lambda row: extract_day(row), axis=1)\n",
    "df_traf['hour'] = df_traf.apply(lambda row: extract_hour(row), axis=1)\n",
    "\n",
    "df_traf = df_traf.drop(['DateTime','ID'],axis=1)"
   ]
  },
  {
   "cell_type": "code",
   "execution_count": 19,
   "metadata": {},
   "outputs": [
    {
     "data": {
      "text/html": [
       "<div>\n",
       "<style scoped>\n",
       "    .dataframe tbody tr th:only-of-type {\n",
       "        vertical-align: middle;\n",
       "    }\n",
       "\n",
       "    .dataframe tbody tr th {\n",
       "        vertical-align: top;\n",
       "    }\n",
       "\n",
       "    .dataframe thead th {\n",
       "        text-align: right;\n",
       "    }\n",
       "</style>\n",
       "<table border=\"1\" class=\"dataframe\">\n",
       "  <thead>\n",
       "    <tr style=\"text-align: right;\">\n",
       "      <th></th>\n",
       "      <th>Junction</th>\n",
       "      <th>Vehicles</th>\n",
       "    </tr>\n",
       "  </thead>\n",
       "  <tbody>\n",
       "    <tr>\n",
       "      <th>count</th>\n",
       "      <td>48120.000000</td>\n",
       "      <td>48120.000000</td>\n",
       "    </tr>\n",
       "    <tr>\n",
       "      <th>mean</th>\n",
       "      <td>2.180549</td>\n",
       "      <td>22.791334</td>\n",
       "    </tr>\n",
       "    <tr>\n",
       "      <th>std</th>\n",
       "      <td>0.966955</td>\n",
       "      <td>20.750063</td>\n",
       "    </tr>\n",
       "    <tr>\n",
       "      <th>min</th>\n",
       "      <td>1.000000</td>\n",
       "      <td>1.000000</td>\n",
       "    </tr>\n",
       "    <tr>\n",
       "      <th>25%</th>\n",
       "      <td>1.000000</td>\n",
       "      <td>9.000000</td>\n",
       "    </tr>\n",
       "    <tr>\n",
       "      <th>50%</th>\n",
       "      <td>2.000000</td>\n",
       "      <td>15.000000</td>\n",
       "    </tr>\n",
       "    <tr>\n",
       "      <th>75%</th>\n",
       "      <td>3.000000</td>\n",
       "      <td>29.000000</td>\n",
       "    </tr>\n",
       "    <tr>\n",
       "      <th>max</th>\n",
       "      <td>4.000000</td>\n",
       "      <td>180.000000</td>\n",
       "    </tr>\n",
       "  </tbody>\n",
       "</table>\n",
       "</div>"
      ],
      "text/plain": [
       "           Junction      Vehicles\n",
       "count  48120.000000  48120.000000\n",
       "mean       2.180549     22.791334\n",
       "std        0.966955     20.750063\n",
       "min        1.000000      1.000000\n",
       "25%        1.000000      9.000000\n",
       "50%        2.000000     15.000000\n",
       "75%        3.000000     29.000000\n",
       "max        4.000000    180.000000"
      ]
     },
     "execution_count": 19,
     "metadata": {},
     "output_type": "execute_result"
    }
   ],
   "source": [
    "df_traf.describe()"
   ]
  },
  {
   "cell_type": "code",
   "execution_count": 3,
   "metadata": {},
   "outputs": [],
   "source": [
    "from sklearn.model_selection import train_test_split\n",
    "\n",
    "train_set, test_set = train_test_split(df_traf, test_size = 0.2)\n"
   ]
  },
  {
   "cell_type": "markdown",
   "metadata": {},
   "source": [
    "## 2. Data Cleaning "
   ]
  },
  {
   "cell_type": "code",
   "execution_count": 5,
   "metadata": {},
   "outputs": [],
   "source": [
    "from sklearn.pipeline import Pipeline\n",
    "from sklearn.preprocessing import OneHotEncoder\n",
    "from sklearn.compose import ColumnTransformer\n",
    "\n",
    "\n",
    "cat_attribs = ['Junction','year','month','day','hour']\n",
    "full_pipeline = ColumnTransformer([\n",
    "        (\"cat\", OneHotEncoder(sparse=False, categories = 'auto'),cat_attribs),\n",
    "    ])\n",
    "\n",
    "X_train = full_pipeline.fit_transform(train_set)\n",
    "y_train = train_set[\"Vehicles\"].values\n",
    "\n",
    "X_test = full_pipeline.fit_transform(test_set)\n",
    "y_test = test_set[\"Vehicles\"].values\n"
   ]
  },
  {
   "cell_type": "markdown",
   "metadata": {},
   "source": [
    "## 3. Model Selection and Training"
   ]
  },
  {
   "cell_type": "code",
   "execution_count": 7,
   "metadata": {},
   "outputs": [
    {
     "name": "stdout",
     "output_type": "stream",
     "text": [
      "11.121696800001606\n"
     ]
    }
   ],
   "source": [
    "from sklearn.linear_model import LinearRegression\n",
    "from sklearn.metrics import mean_squared_error \n",
    "\n",
    "lin_reg = LinearRegression()\n",
    "lin_reg.fit(X_train,y_train)\n",
    "\n",
    "lin_reg_pred = lin_reg.predict(X_test)\n",
    "lin_rmse = np.sqrt(mean_squared_error(y_test, lin_reg_pred))\n",
    "\n",
    "print(lin_rmse)"
   ]
  },
  {
   "cell_type": "code",
   "execution_count": 15,
   "metadata": {},
   "outputs": [
    {
     "data": {
      "text/plain": [
       "6.828912058318615"
      ]
     },
     "execution_count": 15,
     "metadata": {},
     "output_type": "execute_result"
    }
   ],
   "source": [
    "from sklearn.tree import DecisionTreeRegressor\n",
    "tree_reg = DecisionTreeRegressor(random_state=42)\n",
    "\n",
    "tree_reg.fit(X_train, y_train)\n",
    "\n",
    "tree_reg_pred = tree_reg.predict(X_test)\n",
    "tree_rmse = np.sqrt( mean_squared_error(y_test, tree_reg_pred))\n",
    "tree_rmse"
   ]
  },
  {
   "cell_type": "code",
   "execution_count": 11,
   "metadata": {},
   "outputs": [
    {
     "name": "stdout",
     "output_type": "stream",
     "text": [
      "5.907436167927504\n"
     ]
    }
   ],
   "source": [
    "from sklearn.ensemble import RandomForestRegressor\n",
    "forest_reg = RandomForestRegressor(n_estimators = 50, random_state = 42)\n",
    "forest_reg.fit(X_train, y_train)\n",
    "\n",
    "forest_reg_pred = forest_reg.predict(X_test)\n",
    "forest_rmse = np.sqrt(mean_squared_error(y_test, forest_reg_pred))\n",
    "print(forest_rmse)"
   ]
  },
  {
   "cell_type": "markdown",
   "metadata": {},
   "source": [
    "## 4. Conclusion "
   ]
  },
  {
   "cell_type": "markdown",
   "metadata": {},
   "source": [
    "In this hackathon, I built a model using Random Forest which is able to predict traffic at traffic intersections. The average number of vehicles in a cross section at a given time is about 23 and my model is able to produce a prediction with a Root Mean Squared Error of 5.9. I believe this prediction is good enough to be used to time the length traffic lights considering each car won't take very long to go through the junction. "
   ]
  }
 ],
 "metadata": {
  "kernelspec": {
   "display_name": "Python 3",
   "language": "python",
   "name": "python3"
  },
  "language_info": {
   "codemirror_mode": {
    "name": "ipython",
    "version": 3
   },
   "file_extension": ".py",
   "mimetype": "text/x-python",
   "name": "python",
   "nbconvert_exporter": "python",
   "pygments_lexer": "ipython3",
   "version": "3.7.0"
  }
 },
 "nbformat": 4,
 "nbformat_minor": 2
}
